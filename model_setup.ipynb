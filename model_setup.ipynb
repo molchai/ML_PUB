{
  "nbformat": 4,
  "nbformat_minor": 0,
  "metadata": {
    "colab": {
      "name": "model setup",
      "provenance": [],
      "mount_file_id": "1n_DAl8ju6k7Rn7r14pX5D95wLT4m0nbK",
      "authorship_tag": "ABX9TyO/wHELMyH9vrD6pTQsG9bs",
      "include_colab_link": true
    },
    "kernelspec": {
      "name": "python3",
      "display_name": "Python 3"
    }
  },
  "cells": [
    {
      "cell_type": "markdown",
      "metadata": {
        "id": "view-in-github",
        "colab_type": "text"
      },
      "source": [
        "<a href=\"https://colab.research.google.com/github/molchai/ML_PUB/blob/master/model_setup.ipynb\" target=\"_parent\"><img src=\"https://colab.research.google.com/assets/colab-badge.svg\" alt=\"Open In Colab\"/></a>"
      ]
    },
    {
      "cell_type": "code",
      "metadata": {
        "id": "RY12fIrZ8mVj",
        "colab_type": "code",
        "colab": {}
      },
      "source": [
        "import pymongo\n",
        "import tensorflow as tf\n",
        "import pandas as pd\n",
        "import numpy as np\n",
        "client= pymongo.MongoClient()\n",
        "db=client.finance.stock\n",
        "t=db.distinct( \"trade_date\" )"
      ],
      "execution_count": 0,
      "outputs": []
    },
    {
      "cell_type": "code",
      "metadata": {
        "id": "Z6gDDA_f4YLT",
        "colab_type": "code",
        "colab": {}
      },
      "source": [
        "# Import PyDrive and associated libraries.\n",
        "# This only needs to be done once in a notebook.\n",
        "from pydrive.auth import GoogleAuth\n",
        "from pydrive.drive import GoogleDrive\n",
        "from google.colab import auth\n",
        "from oauth2client.client import GoogleCredentials\n",
        "\n",
        "# Authenticate and create the PyDrive client.\n",
        "# This only needs to be done once in a notebook.\n",
        "auth.authenticate_user()\n",
        "gauth = GoogleAuth()\n",
        "gauth.credentials = GoogleCredentials.get_application_default()\n",
        "drive = GoogleDrive(gauth)\n"
      ],
      "execution_count": 0,
      "outputs": []
    },
    {
      "cell_type": "code",
      "metadata": {
        "id": "OiyNrjO18waU",
        "colab_type": "code",
        "colab": {}
      },
      "source": [
        "def getdata(start, end):\n",
        "    dataset=pd.DataFrame(db.find({\"trade_date\":{\"$gte\":start, \"$lt\":end}},{'_id': False,'trade_date': False,'stock_code':False,'bin':False}))\n",
        "    target = dataset.pop('ret')\n",
        "    dataset =tf.data.Dataset.from_tensor_slices((dataset.values, target.values))\n",
        "    train_dataset = dataset.shuffle(len(target)).batch(128)\n",
        "    return train_dataset"
      ],
      "execution_count": 0,
      "outputs": []
    },
    {
      "cell_type": "code",
      "metadata": {
        "id": "F7BM-nn4_2gR",
        "colab_type": "code",
        "colab": {}
      },
      "source": [
        "def get_val_data(start, end):\n",
        "    dataset=pd.DataFrame(db.find({\"trade_date\":{\"$gte\":start, \"$lt\":end}},{'_id': False,'trade_date': False,'stock_code':False,'bin':False}))\n",
        "    target = dataset.pop('ret')\n",
        "    return dataset.values,target.values"
      ],
      "execution_count": 0,
      "outputs": []
    },
    {
      "cell_type": "code",
      "metadata": {
        "id": "nVf00oBqsOUR",
        "colab_type": "code",
        "colab": {}
      },
      "source": [
        "def get_test_data(start, end):\n",
        "    dataset=pd.DataFrame(db.find({\"trade_date\":{\"$gte\":start, \"$lt\":end}},{'_id': False,'trade_date': False,'bin':False}))\n",
        "    stock_code=dataset.pop('trade_date')\n",
        "    target = dataset.pop('ret')\n",
        "    return stock.values,dataset.values,target.values"
      ],
      "execution_count": 0,
      "outputs": []
    },
    {
      "cell_type": "code",
      "metadata": {
        "id": "djb2U7kSrA78",
        "colab_type": "code",
        "colab": {}
      },
      "source": [
        "class MyModel(tf.keras.Model):\n",
        "  def __init__(self):\n",
        "    super(MyModel,self).__init__()\n",
        "    self.layer_1=tf.keras.layers.Dense(128,activation='selu')\n",
        "    self.layer_2=tf.keras.layers.Dense(64,activation='selu')\n",
        "    self.layer_3=tf.keras.layers.Dropout(rate=0.2)\n",
        "  def call(self,input_tensor,training=False):\n",
        "    x=self.layer_1(input_tensor)\n",
        "    x=self.layer_2(x)\n",
        "    x=self.layer_3(x,training=training)\n",
        "    for _ in range(3):\n",
        "      x=tf.keras.layers.Dense(64,activation='selu')(x)\n",
        "    x=tf.keras.layers.Dense(1,activation='linear')(x+input_tensor)\n",
        "    return x"
      ],
      "execution_count": 0,
      "outputs": []
    },
    {
      "cell_type": "code",
      "metadata": {
        "id": "t2zv8LevW9A2",
        "colab_type": "code",
        "colab": {}
      },
      "source": [
        "def construct_porto(model,start_date,end_date,n):\n",
        "    code,X,Y=get_test_data(start_date, end_date)\n",
        "    Y_predicted=model.predict(X)\n",
        "    loss_value=tf.keras.losses.MeanSquaredError(Y_predicted,Y)\n",
        "    stock_pitch=np.argpartition(Y_predicted, -n)[-n:]\n",
        "    porto_ret=np.nansum(Y[stock_pitch])\n",
        "    porto_stock=code[stock_pitch]\n",
        "    return porto_ret,porto_stock"
      ],
      "execution_count": 0,
      "outputs": []
    },
    {
      "cell_type": "code",
      "metadata": {
        "id": "Un0RBgWthRsu",
        "colab_type": "code",
        "colab": {}
      },
      "source": [
        "def R_squared(target_y, predicted_y):\n",
        "    return tf.reduce_sum(tf.square(target_y - predicted_y))/tf.reduce_sum(tf.square(target_y))"
      ],
      "execution_count": 0,
      "outputs": []
    },
    {
      "cell_type": "code",
      "metadata": {
        "id": "1AC2g_OJXJuw",
        "colab_type": "code",
        "colab": {}
      },
      "source": [
        "@tf.function\n",
        "def train_window(start,end,val_start,val_end,epoch,optimizer):\n",
        "  train_dataset=getdata(start,end)\n",
        "  val_dataset=get_val_data(val_start,val_end)\n",
        "  summary_writer = tf.summary.create_file_writer(\n",
        "  '/content/drive/My Drive/ml/training_logs'+ start.strftime(\"%Y%m%d\")+'_'+end.strftime(\"%Y%m%d\")+val_start.strftime(\"%Y%m%d\")+'_'+val_end.strftime(\"%Y%m%d\"))\n",
        "  checkpoint_dir = '/content/drive/My Drive/ml/training_checkpoints'\n",
        "  checkpoint_prefix = os.path.join(checkpoint_dir, start.strftime(\"%Y%m%d-%H%M%S\")+end.strftime(\"%Y%m%d-%H%M%S\"))\n",
        "  for epoch in range(epochs):\n",
        "    for step, (x_batch_train, y_batch_train) in enumerate(train_dataset):\n",
        "      with tf.GradientTape() as tape:\n",
        "        y_batch_predicted = model(x_batch_train, training=True) \n",
        "        loss_value = tf.keras.losses.MeanSquaredError(y_batch_train, y_batch_predicted)\n",
        "      x_batch_val, y_batch_val=val_dataset.take(1)\n",
        "      val_value=tf.keras.losses.MeanSquaredError(model.predict(x_batch_val),y_batch_val)\n",
        "      grads = tape.gradient(loss_value, model.trainable_weights)\n",
        "      optimizer.apply_gradients(zip(grads, model.trainable_weights))\n",
        "    with summary_writer.as_default():\n",
        "      tf.summary.scalar('loss_value', loss_value, step=epoch)\n",
        "      tf.summary.scalar('val_value', val_value, step=epoch)\n",
        "  checkpoint = tf.train.Checkpoint(optimizer=optimizer,model=model)\n",
        "  checkpoint.save(file_prefix = checkpoint_prefix)"
      ],
      "execution_count": 0,
      "outputs": []
    },
    {
      "cell_type": "code",
      "metadata": {
        "id": "2KMRWlGD96Sd",
        "colab_type": "code",
        "colab": {}
      },
      "source": [
        "def test_window(model,test_start,test_end,summary_writer):\n",
        "  X,Y=get_val_data(test_start,test_end)\n",
        "  Y_predicted=model.predict(X)\n",
        "  test_loss=tf.keras.losses.MeanSquaredError(Y_predicted,Y)\n",
        "  R_Squared=R_squared(Y_predicted,Y)\n",
        "  with summary_writer.as_default():\n",
        "      tf.summary.scalar('test_loss', test_loss)\n",
        "      tf.summary.scalar('R_Squared', R_Squared)"
      ],
      "execution_count": 0,
      "outputs": []
    },
    {
      "cell_type": "code",
      "metadata": {
        "id": "oRZOiK37x64c",
        "colab_type": "code",
        "colab": {}
      },
      "source": [
        "def recursive_train(model,datelist,epoch,optimizer,trainws,valws,n):\n",
        "  size=trainws+5+valws+5+5\n",
        "  train_start=0\n",
        "  train_end=train_start+trainws\n",
        "  val_start=train_end+5\n",
        "  val_end=val_start+valws\n",
        "  test_start=val_end+5\n",
        "  test_end=test_start+1\n",
        "  summary_writer_test = tf.summary.create_file_writer(\n",
        "  '/content/drive/My Drive/ml/testing_logs')\n",
        "  trade_log={}\n",
        "  trade_ret={}\n",
        "  while test_end<len(datelist):\n",
        "    train_window(datelist[train_start],datelist[train_end],datelist[val_start],datelist[val_end],epoch,optimizer)\n",
        "    test_window(model,datelist[test_start],datelist[test_end],summary_writer_test)\n",
        "    ret,porto_stock=construct_porto(model,test_start,test_end,n)\n",
        "    trade_log[datelist[test_start]]=porto_stock\n",
        "    trade_ret[datelist[test_start]]=ret\n",
        "    train_start=5+train_start\n",
        "    train_end=train_start+trainws\n",
        "    val_start=train_end+5\n",
        "    val_end=val_start+valws\n",
        "    test_start=val_end+5\n",
        "    test_end=test_start+1\n",
        "  return trade_log,trade_ret"
      ],
      "execution_count": 0,
      "outputs": []
    },
    {
      "cell_type": "code",
      "metadata": {
        "id": "_12XQhaJfrqX",
        "colab_type": "code",
        "colab": {}
      },
      "source": [
        "class portofolio_analysis():\n",
        "  def _int_(self,log):\n",
        "    self._log=log\n",
        "  def turnover(self):\n",
        "    pass\n",
        "  def sharpe_ratio(self):\n",
        "    pass\n",
        "  def maxdrawdown(self):\n",
        "    pass\n",
        "    \n"
      ],
      "execution_count": 0,
      "outputs": []
    },
    {
      "cell_type": "code",
      "metadata": {
        "id": "3nmOX64CyDWT",
        "colab_type": "code",
        "colab": {}
      },
      "source": [
        "model=MyModel()"
      ],
      "execution_count": 0,
      "outputs": []
    },
    {
      "cell_type": "code",
      "metadata": {
        "id": "-WvA1X7i3quO",
        "colab_type": "code",
        "colab": {}
      },
      "source": [
        "optimizer=tf.keras.optimizers.Adam()"
      ],
      "execution_count": 0,
      "outputs": []
    },
    {
      "cell_type": "code",
      "metadata": {
        "id": "3I6lewP83cVm",
        "colab_type": "code",
        "colab": {}
      },
      "source": [
        "recursive_train(model,t,10,optimizer,150,10,100)"
      ],
      "execution_count": 0,
      "outputs": []
    },
    {
      "cell_type": "code",
      "metadata": {
        "id": "p9OsbDi24jt7",
        "colab_type": "code",
        "colab": {}
      },
      "source": [
        ""
      ],
      "execution_count": 0,
      "outputs": []
    }
  ]
}